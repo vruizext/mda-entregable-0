{
 "cells": [
  {
   "cell_type": "code",
   "execution_count": 1,
   "id": "4442d34f",
   "metadata": {},
   "outputs": [],
   "source": [
    "import requests\n",
    "import json\n",
    "import csv\n",
    "from time import sleep\n",
    "from datetime import datetime"
   ]
  },
  {
   "cell_type": "code",
   "execution_count": 3,
   "id": "c1de05aa",
   "metadata": {},
   "outputs": [
    {
     "data": {
      "text/plain": [
       "[{'quote': \"These are my only friends...grown-up nerds like Gore Vidal. And even he's kissed more boys than I ever will.\",\n",
       "  'character': 'Lisa Simpson',\n",
       "  'image': 'https://cdn.glitch.com/3c3ffadc-3406-4440-bb95-d40ec8fcde72%2FLisaSimpson.png?1497567512083',\n",
       "  'characterDirection': 'Right'}]"
      ]
     },
     "execution_count": 3,
     "metadata": {},
     "output_type": "execute_result"
    }
   ],
   "source": [
    "api_url = 'https://thesimpsonsquoteapi.glitch.me/quotes'\n",
    "resp = requests.get(api_url)\n",
    "json.loads(resp.text)"
   ]
  },
  {
   "cell_type": "code",
   "execution_count": 2,
   "id": "5923dc03",
   "metadata": {},
   "outputs": [],
   "source": [
    "def init_files():\n",
    "    columns = ['character', 'quote']\n",
    "    for folder in ['homer', 'lisa', 'general']:\n",
    "        file_path = f'app/{folder}/quotes.csv'\n",
    "        with open(file_path, 'w+') as fp:\n",
    "            csv.writer(fp, delimiter=';').writerow(columns)"
   ]
  },
  {
   "cell_type": "code",
   "execution_count": 3,
   "id": "712d6aee",
   "metadata": {},
   "outputs": [],
   "source": [
    "def get_api_data(url):\n",
    "    \n",
    "    resp = requests.get(url)\n",
    "    if resp.status_code == 200:\n",
    "        return 200, json.loads(resp.text)\n",
    "    else:\n",
    "        return resp.status_code, resp.text\n"
   ]
  },
  {
   "cell_type": "code",
   "execution_count": 4,
   "id": "6eefa6f9",
   "metadata": {},
   "outputs": [],
   "source": [
    "def get_file_path(character):\n",
    "    folder = ''\n",
    "    if character.lower().find('homer') >= 0:\n",
    "        folder += 'homer'\n",
    "    elif character.lower().find('lisa') >= 0:\n",
    "        folder += 'lisa'\n",
    "    else:\n",
    "        folder += 'general'\n",
    "    return f\"app/{folder}/quotes.csv\""
   ]
  },
  {
   "cell_type": "code",
   "execution_count": 5,
   "id": "f0a3e7bd",
   "metadata": {},
   "outputs": [],
   "source": [
    "def save_quote(quotes):\n",
    "    columns = ['character', 'quote']\n",
    "    for quote in quotes:\n",
    "        file_path = get_file_path(quote['character'])\n",
    "        row = [quote[col] for col in columns]\n",
    "        with open(file_path, 'a') as fp:\n",
    "            csv.writer(fp, delimiter=';').writerow(row)"
   ]
  },
  {
   "cell_type": "code",
   "execution_count": 6,
   "id": "13cf3c13",
   "metadata": {
    "scrolled": true
   },
   "outputs": [],
   "source": [
    "def start_app(sleep_time=30):\n",
    "    api_url = 'https://thesimpsonsquoteapi.glitch.me/quotes'\n",
    "    init_files()\n",
    "    n = 0\n",
    "    while n < 40:\n",
    "        n += 1\n",
    "        resp = get_api_data(api_url)\n",
    "        if resp[0] == 200:\n",
    "            save_quote(resp[1])\n",
    "        sleep(sleep_time)"
   ]
  },
  {
   "cell_type": "code",
   "execution_count": 7,
   "id": "14c046c9",
   "metadata": {},
   "outputs": [],
   "source": [
    "start_app(1)"
   ]
  },
  {
   "cell_type": "code",
   "execution_count": 12,
   "id": "86e6ea45",
   "metadata": {},
   "outputs": [
    {
     "name": "stdout",
     "output_type": "stream",
     "text": [
      "Homer Simpson => I believe the children are the future... Unless we stop them now!\n",
      "Homer Simpson => All I'm gonna use this bed for is sleeping, eating and maybe building a little fort.\n",
      "Homer Simpson => Facts are meaningless. You could use facts to prove anything that's even remotely true.\n",
      "Homer Simpson => Gah, stupid sexy Flanders!\n",
      "Abe Simpson => I used to be with it. But then they changed what it was. Now what I'm with isn't it, and what's it seems scary and wierd. It'll happen to you.\n",
      "Moe Szyslak => When I catch you, I'm gonna pull out your eyes and stick 'em down your pants so you can watch me kick the crap outta you, okay? Next I'm gonna use your tongue to paint my boat!\n",
      "Chief Wiggum => When I look at people I don't see colors; I just see crackpot religions.\n",
      "Bart Simpson => Nothing you say can upset us. We're the MTV generation.\n",
      "Ralph Wiggum => Me fail English? That's unpossible.\n",
      "Principal Skinner => Hello, Simpson. I'm riding the bus today becuase Mother hid my car keys to punish me for talking to a woman on the phone. She was right to do it.\n",
      "Mayor Quimby => Can't we have one meeting that doesn't end with us digging up a corpse?\n",
      "Comic Book Guy => Last night's 'Itchy and Scratchy' was, without a doubt, the worst episode ever. Rest assured that I was on the Internet within minutes, registering my disgust throughout the world.\n",
      "Dr. Nick => Inflammable means flammable? What a country!\n",
      "Comic Book Guy => Last night's 'Itchy and Scratchy' was, without a doubt, the worst episode ever. Rest assured that I was on the Internet within minutes, registering my disgust throughout the world.\n",
      "Dr. Nick => Ah, be creative. Instead of making sandwhiches with bread, use Pop-Tarts. Instead of chewing gum, chew bacon.\n",
      "Apu Nahasapeemapetilon => By chilling my loins I increase the chances of impregnating my wife.\n",
      "Ralph Wiggum => Me fail English? That's unpossible.\n",
      "Milhouse Van Houten => Remember the time he ate my goldfish? And you lied and said I never had a goldfish. Then why did I have the bowl, Bart? Why did I have the bowl?\n",
      "Dr. Nick => Ah, be creative. Instead of making sandwhiches with bread, use Pop-Tarts. Instead of chewing gum, chew bacon.\n",
      "Moe Szyslak => Yeah. Call this an unfair generalization if you must.. but old people are no good at everything\n",
      "Milhouse Van Houten => But my mom says I'm cool.\n",
      "Bart Simpson => Eat my shorts\n",
      "Milhouse Van Houten => But my mom says I'm cool.\n",
      "Moe Szyslak => Well, I'm better than dirt. Well, most kinds of dirt. I mean not that fancy store bought dirt. That stuffs loaded with nutrients. I.. I can't compete with that stuff.\n",
      "Dr. Nick => Ah, be creative. Instead of making sandwhiches with bread, use Pop-Tarts. Instead of chewing gum, chew bacon.\n",
      "Mayor Quimby => Can't we have one meeting that doesn't end with us digging up a corpse?\n"
     ]
    }
   ],
   "source": [
    "for folder in ['homer', 'lisa', 'general']:\n",
    "    print()\n",
    "    file_path = f'app/{folder}/quotes.csv'\n",
    "        \n",
    "    with open(file_path) as fp:\n",
    "        csv_reader = csv.DictReader(fp, delimiter=';')\n",
    "\n",
    "        for row in csv_reader:\n",
    "            print(f\"{row['character']} => {row['quote']}\")"
   ]
  },
  {
   "cell_type": "code",
   "execution_count": 9,
   "id": "4ad0aef7",
   "metadata": {},
   "outputs": [
    {
     "name": "stdout",
     "output_type": "stream",
     "text": [
      "Abe Simpson => I used to be with it. But then they changed what it was. Now what I'm with isn't it, and what's it seems scary and wierd. It'll happen to you.\n"
     ]
    }
   ],
   "source": [
    "with open('app/general/quotes.csv') as fp:\n",
    "    csv_reader = csv.DictReader(fp, delimiter=';')\n",
    "    \n",
    "    for row in csv_reader:\n",
    "        print(f\"{row['character']} => {row['quote']}\")"
   ]
  },
  {
   "cell_type": "code",
   "execution_count": null,
   "id": "7a4d84f4",
   "metadata": {},
   "outputs": [],
   "source": []
  }
 ],
 "metadata": {
  "kernelspec": {
   "display_name": "Python 3 (ipykernel)",
   "language": "python",
   "name": "python3"
  },
  "language_info": {
   "codemirror_mode": {
    "name": "ipython",
    "version": 3
   },
   "file_extension": ".py",
   "mimetype": "text/x-python",
   "name": "python",
   "nbconvert_exporter": "python",
   "pygments_lexer": "ipython3",
   "version": "3.9.7"
  }
 },
 "nbformat": 4,
 "nbformat_minor": 5
}
